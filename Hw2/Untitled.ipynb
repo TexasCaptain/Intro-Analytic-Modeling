{
 "cells": [
  {
   "cell_type": "markdown",
   "metadata": {},
   "source": [
    "# Homework 2"
   ]
  },
  {
   "cell_type": "markdown",
   "metadata": {},
   "source": [
    "## Question 3.1"
   ]
  },
  {
   "cell_type": "markdown",
   "metadata": {},
   "source": [
    "### a."
   ]
  },
  {
   "cell_type": "code",
   "execution_count": 1,
   "metadata": {},
   "outputs": [],
   "source": [
    "# Read data and randomly reorder\n",
    "df.cc <- read.table(\"credit_card_data-headers.txt\", stringsAsFactors=FALSE)\n",
    "df.cc <- df.cc[sample(nrow(df.cc)),]"
   ]
  },
  {
   "cell_type": "code",
   "execution_count": 2,
   "metadata": {},
   "outputs": [],
   "source": [
    "# Split train and test data\n",
    "N <- nrow(df.cc)\n",
    "n <- ceiling(N*0.8)\n",
    "\n",
    "df.cc.train <- df.cc[1:n,]\n",
    "df.cc.test <- df.cc[(n+1):N,]"
   ]
  },
  {
   "cell_type": "code",
   "execution_count": 14,
   "metadata": {},
   "outputs": [
    {
     "ename": "ERROR",
     "evalue": "Error in kknn(V11 ~ ., train, cv, k = k[i], distance = 2, scaled = TRUE): could not find function \"kknn\"\n",
     "output_type": "error",
     "traceback": [
      "Error in kknn(V11 ~ ., train, cv, k = k[i], distance = 2, scaled = TRUE): could not find function \"kknn\"\nTraceback:\n"
     ]
    }
   ],
   "source": [
    "# k-neighbor values to be tested\n",
    "k <- c(1, 3, 5, 7, 9, 11, 13, 15)\n",
    "\n",
    "for (i in 1:length(k)) { \n",
    "    # Split cross-validation and training sets\n",
    "    nsample <- n*0.75\n",
    "    train <- df.cc.train[1:nsample,]\n",
    "    cv <- df.cc.train[(nsample+1):n,]\n",
    "    \n",
    "    # Build model on k\n",
    "    kknn <- kknn(V11~.,\n",
    "                 train,cv,\n",
    "                 k=k[i],\n",
    "                 distance=2,\n",
    "                 scaled=TRUE)\n",
    "}"
   ]
  },
  {
   "cell_type": "code",
   "execution_count": 23,
   "metadata": {},
   "outputs": [
    {
     "name": "stderr",
     "output_type": "stream",
     "text": [
      "also installing the dependency ‘igraph’\n",
      "\n",
      "Warning message in install.packages(\"kknn\", repos = \"https://CRAN.R-project.org/\"):\n",
      "“installation of package ‘igraph’ had non-zero exit status”Warning message in install.packages(\"kknn\", repos = \"https://CRAN.R-project.org/\"):\n",
      "“installation of package ‘kknn’ had non-zero exit status”Updating HTML index of packages in '.Library'\n",
      "Making 'packages.html' ... done\n"
     ]
    }
   ],
   "source": [
    "install.packages(\"kknn\",repos='https://CRAN.R-project.org/')"
   ]
  },
  {
   "cell_type": "code",
   "execution_count": 24,
   "metadata": {},
   "outputs": [
    {
     "data": {
      "text/plain": [
       "No vignettes or demos or help files found with alias or concept or\n",
       "title matching ‘kknn’ using regular expression matching."
      ]
     },
     "metadata": {},
     "output_type": "display_data"
    }
   ],
   "source": [
    "??kknn"
   ]
  }
 ],
 "metadata": {
  "kernelspec": {
   "display_name": "R",
   "language": "R",
   "name": "ir"
  },
  "language_info": {
   "codemirror_mode": "r",
   "file_extension": ".r",
   "mimetype": "text/x-r-source",
   "name": "R",
   "pygments_lexer": "r",
   "version": "3.5.1"
  }
 },
 "nbformat": 4,
 "nbformat_minor": 2
}
