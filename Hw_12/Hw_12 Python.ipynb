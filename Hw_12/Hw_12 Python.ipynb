{
 "cells": [
  {
   "cell_type": "markdown",
   "metadata": {},
   "source": [
    "# Homework 12: Optimization"
   ]
  },
  {
   "cell_type": "code",
   "execution_count": 1,
   "metadata": {},
   "outputs": [],
   "source": [
    "# Dependencies\n",
    "import pulp\n",
    "import pandas as pd\n",
    "import numpy as np"
   ]
  },
  {
   "cell_type": "markdown",
   "metadata": {},
   "source": [
    "## Question 1"
   ]
  },
  {
   "cell_type": "markdown",
   "metadata": {},
   "source": [
    "Problem: Formulate an optimization model (linear program) to find cheapest diet satisfying the max and min daily nutrition constraints; solve using Pulp."
   ]
  },
  {
   "cell_type": "markdown",
   "metadata": {},
   "source": [
    "### Read Data"
   ]
  },
  {
   "cell_type": "markdown",
   "metadata": {},
   "source": [
    "First, we begin by just looking at the data. Even looking at it in Excel, we see that it is neatly organized into tabular format. Most of the variables are numerical, except 'Serving Size' being strings.\n",
    "\n",
    "Second, we can see the bottom information about the constraints. "
   ]
  },
  {
   "cell_type": "code",
   "execution_count": 2,
   "metadata": {},
   "outputs": [],
   "source": [
    "# Original dataframes\n",
    "diet = pd.read_excel('Data/diet.xls', nrows=64)\n",
    "dietL = pd.read_excel('Data/diet_large.xls', skiprows=1)\n",
    "\n",
    "# Extract the bottom constraints\n",
    "diet_constraints = pd.read_excel('Data/diet.xls', \n",
    "                                 skiprows=66, header=None\n",
    "                                 ).iloc[:,2:]\n",
    "diet_constraints.columns = diet.columns[2:]"
   ]
  },
  {
   "cell_type": "code",
   "execution_count": 3,
   "metadata": {},
   "outputs": [
    {
     "data": {
      "text/html": [
       "<div>\n",
       "<style scoped>\n",
       "    .dataframe tbody tr th:only-of-type {\n",
       "        vertical-align: middle;\n",
       "    }\n",
       "\n",
       "    .dataframe tbody tr th {\n",
       "        vertical-align: top;\n",
       "    }\n",
       "\n",
       "    .dataframe thead th {\n",
       "        text-align: right;\n",
       "    }\n",
       "</style>\n",
       "<table border=\"1\" class=\"dataframe\">\n",
       "  <thead>\n",
       "    <tr style=\"text-align: right;\">\n",
       "      <th></th>\n",
       "      <th>Serving Size</th>\n",
       "      <th>Calories</th>\n",
       "      <th>Cholesterol mg</th>\n",
       "      <th>Total_Fat g</th>\n",
       "      <th>Sodium mg</th>\n",
       "      <th>Carbohydrates g</th>\n",
       "      <th>Dietary_Fiber g</th>\n",
       "      <th>Protein g</th>\n",
       "      <th>Vit_A IU</th>\n",
       "      <th>Vit_C IU</th>\n",
       "      <th>Calcium mg</th>\n",
       "      <th>Iron mg</th>\n",
       "    </tr>\n",
       "  </thead>\n",
       "  <tbody>\n",
       "    <tr>\n",
       "      <th>0</th>\n",
       "      <td>Minimum daily intake</td>\n",
       "      <td>1500</td>\n",
       "      <td>30</td>\n",
       "      <td>20</td>\n",
       "      <td>800</td>\n",
       "      <td>130</td>\n",
       "      <td>125</td>\n",
       "      <td>60</td>\n",
       "      <td>1000</td>\n",
       "      <td>400</td>\n",
       "      <td>700</td>\n",
       "      <td>10</td>\n",
       "    </tr>\n",
       "    <tr>\n",
       "      <th>1</th>\n",
       "      <td>Maximum daily intake</td>\n",
       "      <td>2500</td>\n",
       "      <td>240</td>\n",
       "      <td>70</td>\n",
       "      <td>2000</td>\n",
       "      <td>450</td>\n",
       "      <td>250</td>\n",
       "      <td>100</td>\n",
       "      <td>10000</td>\n",
       "      <td>5000</td>\n",
       "      <td>1500</td>\n",
       "      <td>40</td>\n",
       "    </tr>\n",
       "  </tbody>\n",
       "</table>\n",
       "</div>"
      ],
      "text/plain": [
       "           Serving Size  Calories  Cholesterol mg  Total_Fat g  Sodium mg  \\\n",
       "0  Minimum daily intake      1500              30           20        800   \n",
       "1  Maximum daily intake      2500             240           70       2000   \n",
       "\n",
       "   Carbohydrates g  Dietary_Fiber g  Protein g  Vit_A IU  Vit_C IU  \\\n",
       "0              130              125         60      1000       400   \n",
       "1              450              250        100     10000      5000   \n",
       "\n",
       "   Calcium mg  Iron mg  \n",
       "0         700       10  \n",
       "1        1500       40  "
      ]
     },
     "execution_count": 3,
     "metadata": {},
     "output_type": "execute_result"
    }
   ],
   "source": [
    "diet_constraints"
   ]
  },
  {
   "cell_type": "code",
   "execution_count": 4,
   "metadata": {},
   "outputs": [
    {
     "data": {
      "text/html": [
       "<div>\n",
       "<style scoped>\n",
       "    .dataframe tbody tr th:only-of-type {\n",
       "        vertical-align: middle;\n",
       "    }\n",
       "\n",
       "    .dataframe tbody tr th {\n",
       "        vertical-align: top;\n",
       "    }\n",
       "\n",
       "    .dataframe thead th {\n",
       "        text-align: right;\n",
       "    }\n",
       "</style>\n",
       "<table border=\"1\" class=\"dataframe\">\n",
       "  <thead>\n",
       "    <tr style=\"text-align: right;\">\n",
       "      <th></th>\n",
       "      <th>Foods</th>\n",
       "      <th>Price/ Serving</th>\n",
       "      <th>Serving Size</th>\n",
       "      <th>Calories</th>\n",
       "      <th>Cholesterol mg</th>\n",
       "      <th>Total_Fat g</th>\n",
       "      <th>Sodium mg</th>\n",
       "      <th>Carbohydrates g</th>\n",
       "      <th>Dietary_Fiber g</th>\n",
       "      <th>Protein g</th>\n",
       "      <th>Vit_A IU</th>\n",
       "      <th>Vit_C IU</th>\n",
       "      <th>Calcium mg</th>\n",
       "      <th>Iron mg</th>\n",
       "    </tr>\n",
       "  </thead>\n",
       "  <tbody>\n",
       "    <tr>\n",
       "      <th>0</th>\n",
       "      <td>Frozen Broccoli</td>\n",
       "      <td>0.16</td>\n",
       "      <td>10 Oz Pkg</td>\n",
       "      <td>73.8</td>\n",
       "      <td>0.0</td>\n",
       "      <td>0.8</td>\n",
       "      <td>68.2</td>\n",
       "      <td>13.6</td>\n",
       "      <td>8.5</td>\n",
       "      <td>8.0</td>\n",
       "      <td>5867.4</td>\n",
       "      <td>160.2</td>\n",
       "      <td>159.0</td>\n",
       "      <td>2.3</td>\n",
       "    </tr>\n",
       "    <tr>\n",
       "      <th>1</th>\n",
       "      <td>Carrots,Raw</td>\n",
       "      <td>0.07</td>\n",
       "      <td>1/2 Cup Shredded</td>\n",
       "      <td>23.7</td>\n",
       "      <td>0.0</td>\n",
       "      <td>0.1</td>\n",
       "      <td>19.2</td>\n",
       "      <td>5.6</td>\n",
       "      <td>1.6</td>\n",
       "      <td>0.6</td>\n",
       "      <td>15471.0</td>\n",
       "      <td>5.1</td>\n",
       "      <td>14.9</td>\n",
       "      <td>0.3</td>\n",
       "    </tr>\n",
       "    <tr>\n",
       "      <th>2</th>\n",
       "      <td>Celery, Raw</td>\n",
       "      <td>0.04</td>\n",
       "      <td>1 Stalk</td>\n",
       "      <td>6.4</td>\n",
       "      <td>0.0</td>\n",
       "      <td>0.1</td>\n",
       "      <td>34.8</td>\n",
       "      <td>1.5</td>\n",
       "      <td>0.7</td>\n",
       "      <td>0.3</td>\n",
       "      <td>53.6</td>\n",
       "      <td>2.8</td>\n",
       "      <td>16.0</td>\n",
       "      <td>0.2</td>\n",
       "    </tr>\n",
       "  </tbody>\n",
       "</table>\n",
       "</div>"
      ],
      "text/plain": [
       "             Foods  Price/ Serving      Serving Size  Calories  \\\n",
       "0  Frozen Broccoli            0.16         10 Oz Pkg      73.8   \n",
       "1      Carrots,Raw            0.07  1/2 Cup Shredded      23.7   \n",
       "2      Celery, Raw            0.04           1 Stalk       6.4   \n",
       "\n",
       "   Cholesterol mg  Total_Fat g  Sodium mg  Carbohydrates g  Dietary_Fiber g  \\\n",
       "0             0.0          0.8       68.2             13.6              8.5   \n",
       "1             0.0          0.1       19.2              5.6              1.6   \n",
       "2             0.0          0.1       34.8              1.5              0.7   \n",
       "\n",
       "   Protein g  Vit_A IU  Vit_C IU  Calcium mg  Iron mg  \n",
       "0        8.0    5867.4     160.2       159.0      2.3  \n",
       "1        0.6   15471.0       5.1        14.9      0.3  \n",
       "2        0.3      53.6       2.8        16.0      0.2  "
      ]
     },
     "execution_count": 4,
     "metadata": {},
     "output_type": "execute_result"
    }
   ],
   "source": [
    "diet.head(3)"
   ]
  },
  {
   "cell_type": "markdown",
   "metadata": {},
   "source": [
    "If you haven't heard of Pandas already, it seems to be the most common data manipulation library in Python for data science/ ML work at a basic level.\n",
    "  \n",
    "Here, we see that the large_diet has a line skipped in the Excel file so we can just skip a row to neatly organize it into a viewable format. Other than this, the data is already cleaned so no further operations are necessary."
   ]
  },
  {
   "cell_type": "markdown",
   "metadata": {},
   "source": [
    "### Optimizing with Pulp"
   ]
  },
  {
   "cell_type": "markdown",
   "metadata": {},
   "source": [
    "First, list comprehension in Python is an extremely useful tool. Essentially, lists are arrays. We can create lists iteratively using a for loop in just one line of code.\n",
    "  \n",
    "Since there are so many different food variables each with its own set of nutritional values, prices, and min/max constraints, it would make sense to loop through these variables.\n",
    "  \n",
    "Furthermore, looking at this as just a large matrix multiplication as seen in the office hour's [Pulp Example](https://pythonhosted.org/PuLP/CaseStudies/a_blending_problem.html), each row of equations is just a dot product (or sum of multiplications) between the nutritional value and the food value names.  \n",
    "(e.g. 1.03 * Food1 + 2 * Food2)\n",
    "  \n",
    "We can put all of this together in a for loop to define the min and max constraints."
   ]
  },
  {
   "cell_type": "code",
   "execution_count": 5,
   "metadata": {},
   "outputs": [],
   "source": [
    "# Problem: Minimize the Cost\n",
    "prob = pulp.LpProblem(\"Army Diet Optimization\", pulp.LpMinimize)"
   ]
  },
  {
   "cell_type": "code",
   "execution_count": 6,
   "metadata": {},
   "outputs": [],
   "source": [
    "food = diet['Foods']\n",
    "varList = pulp.LpVariable.dicts(\"Foods\", food, lowBound=0)\n",
    "\n",
    "# Binary variable\n",
    "binList = pulp.LpVariable.dicts(\"Binary\",food, lowBound=0, upBound=1, cat=\"Binary\")"
   ]
  },
  {
   "cell_type": "code",
   "execution_count": 7,
   "metadata": {},
   "outputs": [],
   "source": [
    "# Objective Function:\n",
    "#     minimizing the (price/servings)*foods\n",
    "price = list(diet['Price/ Serving'])\n",
    "prob += pulp.lpSum([price[i]*varList[food[i]] for i in range(len(varList))])"
   ]
  },
  {
   "cell_type": "code",
   "execution_count": 8,
   "metadata": {},
   "outputs": [],
   "source": [
    "# Constraints\n",
    "#     nutrient*food > min\n",
    "#     nutrients*food < max\n",
    "\n",
    "# List of nutritients\n",
    "col = diet_constraints.columns[1:]\n",
    "\n",
    "# Set min/max constraints for each food type\n",
    "for c in col:\n",
    "    prob += pulp.lpSum([diet[c][i]*varList[food[i]] for i in range(len(varList))]) >= diet_constraints[c][0]\n",
    "    prob += pulp.lpSum([diet[c][i]*varList[food[i]] for i in range(len(varList))]) <= diet_constraints[c][1]"
   ]
  },
  {
   "cell_type": "code",
   "execution_count": 9,
   "metadata": {},
   "outputs": [
    {
     "data": {
      "text/plain": [
       "1"
      ]
     },
     "execution_count": 9,
     "metadata": {},
     "output_type": "execute_result"
    }
   ],
   "source": [
    "# Save problem in DietModel.lp\n",
    "# Solve problem\n",
    "prob.solve()"
   ]
  },
  {
   "cell_type": "code",
   "execution_count": 10,
   "metadata": {},
   "outputs": [
    {
     "name": "stdout",
     "output_type": "stream",
     "text": [
      "Status: Optimal\n"
     ]
    }
   ],
   "source": [
    "# Found optimal solution\n",
    "print(\"Status:\", pulp.LpStatus[prob.status])"
   ]
  },
  {
   "cell_type": "code",
   "execution_count": 11,
   "metadata": {},
   "outputs": [
    {
     "name": "stdout",
     "output_type": "stream",
     "text": [
      "Foods_Celery,_Raw = 52.64371\n",
      "Foods_Frozen_Broccoli = 0.25960653\n",
      "Foods_Lettuce,Iceberg,Raw = 63.988506\n",
      "Foods_Oranges = 2.2929389\n",
      "Foods_Poached_Eggs = 0.14184397\n",
      "Foods_Popcorn,Air_Popped = 13.869322\n"
     ]
    }
   ],
   "source": [
    "# Print the solution\n",
    "for v in prob.variables():\n",
    "    if v.varValue != 0: \n",
    "        print(v.name, \"=\", v.varValue)"
   ]
  },
  {
   "cell_type": "markdown",
   "metadata": {},
   "source": [
    "\n",
    "### Constructing Optimal Solutions"
   ]
  },
  {
   "cell_type": "markdown",
   "metadata": {},
   "source": [
    "Using panda's awesome ability to manipulte DataFrames, we can construct several optimal solutions and export them into Excel or save them for convenience.\n",
    "  \n",
    "First, we extract the variable names and their optimal servings amount solved for in the 'Optimizing with Pulp' section. It seems that pulp replaces spaces with an underscore, so we can revert the change during our extraction process.\n",
    "  \n",
    "Second, we save these values in a Pandas DataFrame and export to Excel.\n",
    "  \n",
    "Third, we join the original 'diet.xls' table with the optimal solutions, adding another column with the 'Optimal Amount'. "
   ]
  },
  {
   "cell_type": "code",
   "execution_count": 12,
   "metadata": {},
   "outputs": [],
   "source": [
    "# Dataframe of optimal values\n",
    "var = prob.variables()\n",
    "df_optimal = pd.DataFrame(\n",
    "    {'Foods':[v.name.replace(\"_\", \" \").replace(\"Foods \",\"\") for v in var],\n",
    "     'Optimal Servings 1': [v.varValue for v in var]},\n",
    ")"
   ]
  },
  {
   "cell_type": "code",
   "execution_count": 13,
   "metadata": {},
   "outputs": [],
   "source": [
    "# Join table with optimal solution and export to Excel\n",
    "diet_optimal = diet.merge(df_optimal, on='Foods')"
   ]
  },
  {
   "cell_type": "code",
   "execution_count": 14,
   "metadata": {},
   "outputs": [
    {
     "data": {
      "text/html": [
       "<div>\n",
       "<style scoped>\n",
       "    .dataframe tbody tr th:only-of-type {\n",
       "        vertical-align: middle;\n",
       "    }\n",
       "\n",
       "    .dataframe tbody tr th {\n",
       "        vertical-align: top;\n",
       "    }\n",
       "\n",
       "    .dataframe thead th {\n",
       "        text-align: right;\n",
       "    }\n",
       "</style>\n",
       "<table border=\"1\" class=\"dataframe\">\n",
       "  <thead>\n",
       "    <tr style=\"text-align: right;\">\n",
       "      <th></th>\n",
       "      <th>Foods</th>\n",
       "      <th>Price/ Serving</th>\n",
       "      <th>Optimal Servings 1</th>\n",
       "    </tr>\n",
       "  </thead>\n",
       "  <tbody>\n",
       "    <tr>\n",
       "      <th>0</th>\n",
       "      <td>Frozen Broccoli</td>\n",
       "      <td>0.16</td>\n",
       "      <td>0.259607</td>\n",
       "    </tr>\n",
       "    <tr>\n",
       "      <th>2</th>\n",
       "      <td>Celery, Raw</td>\n",
       "      <td>0.04</td>\n",
       "      <td>52.643710</td>\n",
       "    </tr>\n",
       "    <tr>\n",
       "      <th>4</th>\n",
       "      <td>Lettuce,Iceberg,Raw</td>\n",
       "      <td>0.02</td>\n",
       "      <td>63.988506</td>\n",
       "    </tr>\n",
       "    <tr>\n",
       "      <th>13</th>\n",
       "      <td>Oranges</td>\n",
       "      <td>0.15</td>\n",
       "      <td>2.292939</td>\n",
       "    </tr>\n",
       "    <tr>\n",
       "      <th>25</th>\n",
       "      <td>Poached Eggs</td>\n",
       "      <td>0.08</td>\n",
       "      <td>0.141844</td>\n",
       "    </tr>\n",
       "  </tbody>\n",
       "</table>\n",
       "</div>"
      ],
      "text/plain": [
       "                  Foods  Price/ Serving  Optimal Servings 1\n",
       "0       Frozen Broccoli            0.16            0.259607\n",
       "2           Celery, Raw            0.04           52.643710\n",
       "4   Lettuce,Iceberg,Raw            0.02           63.988506\n",
       "13              Oranges            0.15            2.292939\n",
       "25         Poached Eggs            0.08            0.141844"
      ]
     },
     "execution_count": 14,
     "metadata": {},
     "output_type": "execute_result"
    }
   ],
   "source": [
    "# DataFrame containing just the necessary values\n",
    "df1 = diet_optimal.loc[diet_optimal['Optimal Servings 1'] > 0 ][['Foods', 'Price/ Serving', 'Optimal Servings 1']]\n",
    "df1"
   ]
  },
  {
   "cell_type": "code",
   "execution_count": 15,
   "metadata": {},
   "outputs": [
    {
     "data": {
      "text/plain": [
       "3.7823439173999995"
      ]
     },
     "execution_count": 15,
     "metadata": {},
     "output_type": "execute_result"
    }
   ],
   "source": [
    "# Solve for cost\n",
    "np.sum(df1['Price/ Serving'] * df1['Optimal Servings 1'])"
   ]
  },
  {
   "cell_type": "markdown",
   "metadata": {},
   "source": [
    "Total cost per day per one member of the army is $3.78"
   ]
  },
  {
   "cell_type": "markdown",
   "metadata": {},
   "source": [
    "## Question 2"
   ]
  },
  {
   "cell_type": "markdown",
   "metadata": {},
   "source": [
    "Problem: solve optimization problem as before but with additional logical constraints.  \n",
    "We will add the constraints one at a time - combining these, we will get a new set of food with all of the constraints together. "
   ]
  },
  {
   "cell_type": "markdown",
   "metadata": {},
   "source": [
    "__a.) Minimum of 0.1 servings if used at all__  \n"
   ]
  },
  {
   "cell_type": "markdown",
   "metadata": {},
   "source": [
    "The value must be greater than 0.1 if used at all.  \n",
    "The second part ties in to part b. of the solution. By stating that the food value must be less than the multiple of the binary value, if the binary value is 0 then the food value is also 0. However, this limits the amount that the food value can be if the binary is 1. Therefore, we put an extremely large coefficient to the binary expression so that we can have at least that many servings.  \n",
    "  \n",
    "It is importnat to note that we are losing out on any potential solutions in which the amount of servings is greater than the coefficient placed with the binary value. To prevent such a case, the binary value is large enough beyond a reasonable solution to the optimization problem."
   ]
  },
  {
   "cell_type": "code",
   "execution_count": 16,
   "metadata": {},
   "outputs": [],
   "source": [
    "for i in food:\n",
    "    # Sets minimum to 0.1\n",
    "    prob += varList[i] >= 0.1*binList[i]\n",
    "    \n",
    "    # Ties food value with binary value\n",
    "    prob += varList[i] <= 9001*binList[i]"
   ]
  },
  {
   "cell_type": "markdown",
   "metadata": {},
   "source": [
    "__b.) Frozen Broccoli and Raw Celery are mutually exclusive__"
   ]
  },
  {
   "cell_type": "markdown",
   "metadata": {},
   "source": [
    "Simple enough, we set the value 1 so that at least one of the two must be used but not more than the one."
   ]
  },
  {
   "cell_type": "code",
   "execution_count": 17,
   "metadata": {},
   "outputs": [],
   "source": [
    "# Either one or the other\n",
    "prob += binList['Frozen Broccoli'] + binList['Celery, Raw'] == 1"
   ]
  },
  {
   "cell_type": "markdown",
   "metadata": {},
   "source": [
    "__c.) At least 3 proteins__"
   ]
  },
  {
   "cell_type": "markdown",
   "metadata": {},
   "source": [
    "This will take some manual sorting, since there is no categorical variable indicating whether or not a food is a meat or egg. We can sort the values to make this easier. Some of the foods are a bit iffy, but I included anything with a mention of meat or eggs in it.\n",
    "  \n",
    "Beyond that, the constraints are just as in part b. As long as the number of binary values equals a certain number, that many foods will be included in the model. Note that the original constraint is still in place, and any food included will at least have 0.1 servings."
   ]
  },
  {
   "cell_type": "code",
   "execution_count": 18,
   "metadata": {},
   "outputs": [
    {
     "data": {
      "text/plain": [
       "array(['2% Lowfat Milk', '3.3% Fat,Whole Milk', 'Apple Pie',\n",
       "       'Apple,Raw,W/Skin', 'Bagels', 'Banana', 'Beanbacn Soup,W/Watr',\n",
       "       'Bologna,Turkey', 'Butter,Regular', \"Cap'N Crunch\", 'Carrots,Raw',\n",
       "       'Celery, Raw', 'Cheddar Cheese', 'Cheerios', 'Chicknoodl Soup',\n",
       "       'Chocolate Chip Cookies', \"Corn Flks, Kellogg'S\", 'Couscous',\n",
       "       'Crm Mshrm Soup,W/Mlk', 'Frankfurter, Beef', 'Frozen Broccoli',\n",
       "       'Frozen Corn', 'Grapes', 'Ham,Sliced,Extralean',\n",
       "       'Hamburger W/Toppings', 'Hotdog, Plain', 'Kielbasa,Prk',\n",
       "       'Kiwifruit,Raw,Fresh', 'Lettuce,Iceberg,Raw', 'Macaroni,Ckd',\n",
       "       'Malt-O-Meal,Choc', 'New E Clamchwd,W/Mlk', 'Neweng Clamchwd',\n",
       "       'Oatmeal', 'Oatmeal Cookies', 'Oranges', 'Peanut Butter',\n",
       "       'Peppers, Sweet, Raw', 'Pizza W/Pepperoni', 'Poached Eggs',\n",
       "       'Popcorn,Air-Popped', 'Pork', 'Potato Chips,Bbqflvr',\n",
       "       'Potatoes, Baked', 'Pretzels', \"Raisin Brn, Kellg'S\",\n",
       "       'Rice Krispies', 'Roasted Chicken', 'Sardines in Oil',\n",
       "       'Scrambled Eggs', 'Skim Milk', 'Spaghetti W/ Sauce', 'Special K',\n",
       "       'Splt Pea&Hamsoup', 'Taco', 'Tofu', 'Tomato Soup',\n",
       "       'Tomato,Red,Ripe,Raw', 'Tortilla Chip', 'Vegetbeef Soup',\n",
       "       'Wheat Bread', 'White Bread', 'White Rice', 'White Tuna in Water'],\n",
       "      dtype=object)"
      ]
     },
     "execution_count": 18,
     "metadata": {},
     "output_type": "execute_result"
    }
   ],
   "source": [
    "np.sort(food)"
   ]
  },
  {
   "cell_type": "code",
   "execution_count": 19,
   "metadata": {},
   "outputs": [],
   "source": [
    "# List of necessary proteins\n",
    "proteinList = [\n",
    "       'Bologna,Turkey', 'Frankfurter, Beef','Ham,Sliced,Extralean',\n",
    "       'Hamburger W/Toppings', 'Hotdog, Plain', 'Kielbasa,Prk',\n",
    "       'Pizza W/Pepperoni', 'Poached Eggs',\n",
    "       'Pork', 'Roasted Chicken', 'Sardines in Oil',\n",
    "       'Scrambled Eggs',\n",
    "       'Splt Pea&Hamsoup', 'Vegetbeef Soup',\n",
    "       'White Tuna in Water']"
   ]
  },
  {
   "cell_type": "code",
   "execution_count": 20,
   "metadata": {},
   "outputs": [],
   "source": [
    "# Build constraints of at least 3\n",
    "prob += pulp.lpSum([binList[p] for p in proteinList]) >= 3"
   ]
  },
  {
   "cell_type": "code",
   "execution_count": 21,
   "metadata": {},
   "outputs": [
    {
     "data": {
      "text/plain": [
       "1"
      ]
     },
     "execution_count": 21,
     "metadata": {},
     "output_type": "execute_result"
    }
   ],
   "source": [
    "prob.solve()"
   ]
  },
  {
   "cell_type": "code",
   "execution_count": 22,
   "metadata": {},
   "outputs": [],
   "source": [
    "# Dataframe of optimal values\n",
    "var = prob.variables()\n",
    "df_optimal2 = pd.DataFrame(\n",
    "    {'Foods':[v.name.replace(\"_\", \" \").replace(\"Foods \",\"\") for v in var],\n",
    "     'Optimal Servings 2': [v.varValue for v in var]},\n",
    ")\n",
    "\n",
    "# Join table with optimal solution and export to Excel\n",
    "diet_optimal = diet_optimal.merge(df_optimal2, on='Foods')"
   ]
  },
  {
   "cell_type": "code",
   "execution_count": 23,
   "metadata": {},
   "outputs": [],
   "source": [
    "# DataFrame containing just the necessary values\n",
    "df2 = diet_optimal.loc[diet_optimal['Optimal Servings 2'] >0][['Foods', 'Price/ Serving', 'Optimal Servings 2']]"
   ]
  },
  {
   "cell_type": "code",
   "execution_count": 24,
   "metadata": {},
   "outputs": [
    {
     "data": {
      "text/html": [
       "<div>\n",
       "<style scoped>\n",
       "    .dataframe tbody tr th:only-of-type {\n",
       "        vertical-align: middle;\n",
       "    }\n",
       "\n",
       "    .dataframe tbody tr th {\n",
       "        vertical-align: top;\n",
       "    }\n",
       "\n",
       "    .dataframe thead th {\n",
       "        text-align: right;\n",
       "    }\n",
       "</style>\n",
       "<table border=\"1\" class=\"dataframe\">\n",
       "  <thead>\n",
       "    <tr style=\"text-align: right;\">\n",
       "      <th></th>\n",
       "      <th>Foods</th>\n",
       "      <th>Price/ Serving</th>\n",
       "      <th>Optimal Servings 2</th>\n",
       "    </tr>\n",
       "  </thead>\n",
       "  <tbody>\n",
       "    <tr>\n",
       "      <th>2</th>\n",
       "      <td>Celery, Raw</td>\n",
       "      <td>0.04</td>\n",
       "      <td>42.399358</td>\n",
       "    </tr>\n",
       "    <tr>\n",
       "      <th>4</th>\n",
       "      <td>Lettuce,Iceberg,Raw</td>\n",
       "      <td>0.02</td>\n",
       "      <td>82.802586</td>\n",
       "    </tr>\n",
       "    <tr>\n",
       "      <th>13</th>\n",
       "      <td>Oranges</td>\n",
       "      <td>0.15</td>\n",
       "      <td>3.077184</td>\n",
       "    </tr>\n",
       "    <tr>\n",
       "      <th>25</th>\n",
       "      <td>Poached Eggs</td>\n",
       "      <td>0.08</td>\n",
       "      <td>0.100000</td>\n",
       "    </tr>\n",
       "    <tr>\n",
       "      <th>26</th>\n",
       "      <td>Scrambled Eggs</td>\n",
       "      <td>0.11</td>\n",
       "      <td>0.100000</td>\n",
       "    </tr>\n",
       "    <tr>\n",
       "      <th>30</th>\n",
       "      <td>Kielbasa,Prk</td>\n",
       "      <td>0.15</td>\n",
       "      <td>0.100000</td>\n",
       "    </tr>\n",
       "    <tr>\n",
       "      <th>43</th>\n",
       "      <td>Peanut Butter</td>\n",
       "      <td>0.07</td>\n",
       "      <td>1.942972</td>\n",
       "    </tr>\n",
       "  </tbody>\n",
       "</table>\n",
       "</div>"
      ],
      "text/plain": [
       "                  Foods  Price/ Serving  Optimal Servings 2\n",
       "2           Celery, Raw            0.04           42.399358\n",
       "4   Lettuce,Iceberg,Raw            0.02           82.802586\n",
       "13              Oranges            0.15            3.077184\n",
       "25         Poached Eggs            0.08            0.100000\n",
       "26       Scrambled Eggs            0.11            0.100000\n",
       "30         Kielbasa,Prk            0.15            0.100000\n",
       "43        Peanut Butter            0.07            1.942972"
      ]
     },
     "execution_count": 24,
     "metadata": {},
     "output_type": "execute_result"
    }
   ],
   "source": [
    "df2"
   ]
  },
  {
   "cell_type": "markdown",
   "metadata": {},
   "source": [
    "## Cost"
   ]
  },
  {
   "cell_type": "code",
   "execution_count": 25,
   "metadata": {},
   "outputs": [
    {
     "data": {
      "text/plain": [
       "3.9836116670000004"
      ]
     },
     "execution_count": 25,
     "metadata": {},
     "output_type": "execute_result"
    }
   ],
   "source": [
    "# Solve for cost\n",
    "np.sum(df2['Price/ Serving'] * df2['Optimal Servings 2'])"
   ]
  },
  {
   "cell_type": "markdown",
   "metadata": {},
   "source": [
    "Note, the cost here is a little higher, at $3.98 per day for each army member. Of couse, with more constraints, this is to be expected. As we place more restrictions on the optimization, there is less room for it to move and improve.\n",
    "  \n",
    "Similarly, the same occurs for linear regression when we optimize for the coefficients. As we add a regularization term to the Loss function, we say give the variables less wriggle room to reach its minimum values. "
   ]
  }
 ],
 "metadata": {
  "kernelspec": {
   "display_name": "Python 3",
   "language": "python",
   "name": "python3"
  },
  "language_info": {
   "codemirror_mode": {
    "name": "ipython",
    "version": 3
   },
   "file_extension": ".py",
   "mimetype": "text/x-python",
   "name": "python",
   "nbconvert_exporter": "python",
   "pygments_lexer": "ipython3",
   "version": "3.7.1"
  }
 },
 "nbformat": 4,
 "nbformat_minor": 2
}
