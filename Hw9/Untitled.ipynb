{
 "cells": [
  {
   "cell_type": "markdown",
   "metadata": {},
   "source": [
    "# Homework 9: Question 13.2"
   ]
  },
  {
   "cell_type": "code",
   "execution_count": 1,
   "metadata": {},
   "outputs": [],
   "source": [
    "# Dependencies\n",
    "import simpy\n",
    "import random\n",
    "import numpy as np"
   ]
  },
  {
   "cell_type": "markdown",
   "metadata": {},
   "source": [
    "__Setting up simulation variables__"
   ]
  },
  {
   "cell_type": "code",
   "execution_count": 2,
   "metadata": {},
   "outputs": [],
   "source": [
    "class Queue(object):\n",
    "    \n",
    "    def __init__(self, env, num_queue, queue_time):\n",
    "        self.env = env\n",
    "        \n",
    "        # Create 'num_queue' Queues that take 'queue_time' amount of time\n",
    "        self.queue = simpy.Resource(env, num_queue)\n",
    "        self.queue_time = queue_time\n",
    "    \n",
    "    \n",
    "    def checkin(self, passenger):\n",
    "        # it takes 'queueTime' time for a passenger to finish the queue\n",
    "        yield self.env.timeout(self.queue_time)\n",
    "        "
   ]
  },
  {
   "cell_type": "code",
   "execution_count": 3,
   "metadata": {},
   "outputs": [],
   "source": [
    "arrivalTime = []\n",
    "queueTime = []\n",
    "def passenger(env, name, queue):\n",
    "    \n",
    "    arrivalTime.append(env.now)\n",
    "    print('%s enters the queue at %.2f.' % (name, env.now))\n",
    "    \n",
    "    with queue.queue.request() as request:\n",
    "        yield request\n",
    "        \n",
    "        # QUEUE\n",
    "        yield env.process(queue.checkin(name))\n",
    "        queueTime.append(env.now)\n",
    "        \n",
    "        \n",
    "        print('%s leaves the queue at %.2f.' % (name, env.now))"
   ]
  },
  {
   "cell_type": "code",
   "execution_count": 4,
   "metadata": {},
   "outputs": [],
   "source": [
    "# numQueue and time go to AirPort\n",
    "# interval is local in the user-defined-function\n",
    "def setup(env, num_queue, queue_time, interval):\n",
    "    \n",
    "    # Create the AirPort with 5 queues taking 0.75 minutes each\n",
    "    queue = Queue(env, num_queue, queue_time)\n",
    "    \n",
    "    # Create 1 initial passenger\n",
    "    i=1\n",
    "    env.process(passenger(env, 'Passenger %i' % i, queue))\n",
    "    \n",
    "    # Create more passengers while simulation is running\n",
    "    while True:\n",
    "        yield env.timeout(interval)\n",
    "        i += 1\n",
    "        env.process(passenger(env, 'Passenger %i' % i, queue))"
   ]
  },
  {
   "cell_type": "code",
   "execution_count": 5,
   "metadata": {},
   "outputs": [
    {
     "name": "stdout",
     "output_type": "stream",
     "text": [
      "Passenger 1 enters the queue at 0.00.\n",
      "Passenger 2 enters the queue at 0.20.\n",
      "Passenger 3 enters the queue at 0.40.\n",
      "Passenger 4 enters the queue at 0.60.\n",
      "Passenger 1 leaves the queue at 0.75.\n",
      "Passenger 5 enters the queue at 0.80.\n",
      "Passenger 6 enters the queue at 1.00.\n",
      "Passenger 7 enters the queue at 1.20.\n",
      "Passenger 8 enters the queue at 1.40.\n",
      "Passenger 2 leaves the queue at 1.50.\n",
      "Passenger 9 enters the queue at 1.60.\n",
      "Passenger 10 enters the queue at 1.80.\n",
      "Passenger 11 enters the queue at 2.00.\n",
      "Passenger 12 enters the queue at 2.20.\n",
      "Passenger 3 leaves the queue at 2.25.\n",
      "Passenger 13 enters the queue at 2.40.\n",
      "Passenger 14 enters the queue at 2.60.\n",
      "Passenger 15 enters the queue at 2.80.\n",
      "Passenger 4 leaves the queue at 3.00.\n",
      "Passenger 16 enters the queue at 3.00.\n",
      "Passenger 17 enters the queue at 3.20.\n",
      "Passenger 18 enters the queue at 3.40.\n",
      "Passenger 19 enters the queue at 3.60.\n",
      "Passenger 5 leaves the queue at 3.75.\n",
      "Passenger 20 enters the queue at 3.80.\n",
      "Passenger 21 enters the queue at 4.00.\n",
      "Passenger 22 enters the queue at 4.20.\n",
      "Passenger 23 enters the queue at 4.40.\n",
      "Passenger 6 leaves the queue at 4.50.\n",
      "Passenger 24 enters the queue at 4.60.\n",
      "Passenger 25 enters the queue at 4.80.\n",
      "Passenger 26 enters the queue at 5.00.\n",
      "Passenger 27 enters the queue at 5.20.\n",
      "Passenger 7 leaves the queue at 5.25.\n",
      "Passenger 28 enters the queue at 5.40.\n",
      "Passenger 29 enters the queue at 5.60.\n",
      "Passenger 30 enters the queue at 5.80.\n",
      "Passenger 8 leaves the queue at 6.00.\n",
      "Passenger 31 enters the queue at 6.00.\n",
      "Passenger 32 enters the queue at 6.20.\n",
      "Passenger 33 enters the queue at 6.40.\n",
      "Passenger 34 enters the queue at 6.60.\n",
      "Passenger 9 leaves the queue at 6.75.\n",
      "Passenger 35 enters the queue at 6.80.\n",
      "Passenger 36 enters the queue at 7.00.\n",
      "Passenger 37 enters the queue at 7.20.\n",
      "Passenger 38 enters the queue at 7.40.\n",
      "Passenger 10 leaves the queue at 7.50.\n",
      "Passenger 39 enters the queue at 7.60.\n",
      "Passenger 40 enters the queue at 7.80.\n",
      "Passenger 41 enters the queue at 8.00.\n",
      "Passenger 42 enters the queue at 8.20.\n",
      "Passenger 11 leaves the queue at 8.25.\n",
      "Passenger 43 enters the queue at 8.40.\n",
      "Passenger 44 enters the queue at 8.60.\n",
      "Passenger 45 enters the queue at 8.80.\n",
      "Passenger 46 enters the queue at 9.00.\n",
      "Passenger 12 leaves the queue at 9.00.\n",
      "Passenger 47 enters the queue at 9.20.\n",
      "Passenger 48 enters the queue at 9.40.\n",
      "Passenger 49 enters the queue at 9.60.\n",
      "Passenger 13 leaves the queue at 9.75.\n",
      "Passenger 50 enters the queue at 9.80.\n",
      "Passenger 51 enters the queue at 10.00.\n",
      "Passenger 52 enters the queue at 10.20.\n",
      "Passenger 53 enters the queue at 10.40.\n",
      "Passenger 14 leaves the queue at 10.50.\n",
      "Passenger 54 enters the queue at 10.60.\n",
      "Passenger 55 enters the queue at 10.80.\n",
      "Passenger 56 enters the queue at 11.00.\n",
      "Passenger 57 enters the queue at 11.20.\n",
      "Passenger 15 leaves the queue at 11.25.\n",
      "Passenger 58 enters the queue at 11.40.\n",
      "Passenger 59 enters the queue at 11.60.\n",
      "Passenger 60 enters the queue at 11.80.\n",
      "Passenger 61 enters the queue at 12.00.\n",
      "Passenger 16 leaves the queue at 12.00.\n",
      "Passenger 62 enters the queue at 12.20.\n",
      "Passenger 63 enters the queue at 12.40.\n",
      "Passenger 64 enters the queue at 12.60.\n",
      "Passenger 17 leaves the queue at 12.75.\n",
      "Passenger 65 enters the queue at 12.80.\n",
      "Passenger 66 enters the queue at 13.00.\n",
      "Passenger 67 enters the queue at 13.20.\n",
      "Passenger 68 enters the queue at 13.40.\n",
      "Passenger 18 leaves the queue at 13.50.\n",
      "Passenger 69 enters the queue at 13.60.\n",
      "Passenger 70 enters the queue at 13.80.\n",
      "Passenger 71 enters the queue at 14.00.\n",
      "Passenger 72 enters the queue at 14.20.\n",
      "Passenger 19 leaves the queue at 14.25.\n",
      "Passenger 73 enters the queue at 14.40.\n",
      "Passenger 74 enters the queue at 14.60.\n",
      "Passenger 75 enters the queue at 14.80.\n",
      "Passenger 76 enters the queue at 15.00.\n"
     ]
    }
   ],
   "source": [
    "random.seed(42)\n",
    "env = simpy.Environment()\n",
    "env.process(setup(env, 1, 0.75, 0.2))\n",
    "\n",
    "env.run(until=15)"
   ]
  },
  {
   "cell_type": "markdown",
   "metadata": {},
   "source": [
    "Basically, we now have the times that the passengers left the queue. We can now have passengers go to the scanner; but instead of an interval of 0.2, we will have them go to the scanner at each moment a passenger left the queue. These values are saved in a list, called queueTime."
   ]
  },
  {
   "cell_type": "code",
   "execution_count": 6,
   "metadata": {},
   "outputs": [],
   "source": [
    "# Exact same thing as Queue but with uniformly random scan time of 0.5 to 1\n",
    "class Scan(object):\n",
    "    def __init__(self, env, num_scan):\n",
    "        self.env = env\n",
    "        \n",
    "        self.scan=simpy.Resource(env, num_scan)\n",
    "        \n",
    "    def scan(self, passenger):\n",
    "        # Random value 0.5 to 1 (up to hundredth digit)\n",
    "        scan_time = random.randint(50, 100)/100\n",
    "        yield self.env.timeout(scan_time)"
   ]
  },
  {
   "cell_type": "code",
   "execution_count": 7,
   "metadata": {},
   "outputs": [],
   "source": [
    "scanTime = []\n",
    "def passenger2(env, name, scan):\n",
    "    \n",
    "    print('%s enters the queue at %.2f.' % (name, env.now))\n",
    "    \n",
    "    with scan.scan.request() as request:\n",
    "        yield request\n",
    "        \n",
    "        # SCAN\n",
    "        yield env.process(scan.scan(name))\n",
    "        scanTime.append(env.now)\n",
    "        \n",
    "        \n",
    "        print('%s leaves the queue at %.2f.' % (name, env.now))"
   ]
  },
  {
   "cell_type": "code",
   "execution_count": 8,
   "metadata": {},
   "outputs": [],
   "source": [
    "# numQueue and time go to AirPort\n",
    "# interval is local in the user-defined-function\n",
    "def setup2(env, num_scan, queueTime):\n",
    "    \n",
    "    # Create the AirPort with 5 queues taking 0.75 minutes each\n",
    "    scan = Scan(env, num_scan)\n",
    "    \n",
    "    # Create 1 initial passenger\n",
    "    i=1\n",
    "    env.process(passenger2(env, 'Passenger %i' % i, scan))\n",
    "    \n",
    "    # Create more passengers while simulation is running\n",
    "    while True:\n",
    "        yield env.timeout(queueTime[i])\n",
    "        i += 1\n",
    "        env.process(passenger2(env, 'Passenger %i' % i, scan))"
   ]
  },
  {
   "cell_type": "code",
   "execution_count": 9,
   "metadata": {},
   "outputs": [
    {
     "name": "stdout",
     "output_type": "stream",
     "text": [
      "Passenger 1 enters the queue at 0.00.\n"
     ]
    },
    {
     "ename": "TypeError",
     "evalue": "'Resource' object is not callable",
     "output_type": "error",
     "traceback": [
      "\u001b[0;31m---------------------------------------------------------------------------\u001b[0m",
      "\u001b[0;31mTypeError\u001b[0m                                 Traceback (most recent call last)",
      "\u001b[0;32m<ipython-input-7-170614606092>\u001b[0m in \u001b[0;36mpassenger2\u001b[0;34m(env, name, scan)\u001b[0m\n\u001b[1;32m      9\u001b[0m         \u001b[0;31m# SCAN\u001b[0m\u001b[0;34m\u001b[0m\u001b[0;34m\u001b[0m\u001b[0;34m\u001b[0m\u001b[0m\n\u001b[0;32m---> 10\u001b[0;31m         \u001b[0;32myield\u001b[0m \u001b[0menv\u001b[0m\u001b[0;34m.\u001b[0m\u001b[0mprocess\u001b[0m\u001b[0;34m(\u001b[0m\u001b[0mscan\u001b[0m\u001b[0;34m.\u001b[0m\u001b[0mscan\u001b[0m\u001b[0;34m(\u001b[0m\u001b[0mname\u001b[0m\u001b[0;34m)\u001b[0m\u001b[0;34m)\u001b[0m\u001b[0;34m\u001b[0m\u001b[0;34m\u001b[0m\u001b[0m\n\u001b[0m\u001b[1;32m     11\u001b[0m         \u001b[0mscanTime\u001b[0m\u001b[0;34m.\u001b[0m\u001b[0mappend\u001b[0m\u001b[0;34m(\u001b[0m\u001b[0menv\u001b[0m\u001b[0;34m.\u001b[0m\u001b[0mnow\u001b[0m\u001b[0;34m)\u001b[0m\u001b[0;34m\u001b[0m\u001b[0;34m\u001b[0m\u001b[0m\n",
      "\u001b[0;31mTypeError\u001b[0m: 'Resource' object is not callable",
      "\nThe above exception was the direct cause of the following exception:\n",
      "\u001b[0;31mTypeError\u001b[0m                                 Traceback (most recent call last)",
      "\u001b[0;32m<ipython-input-9-74dc80dc31ee>\u001b[0m in \u001b[0;36m<module>\u001b[0;34m\u001b[0m\n\u001b[1;32m      2\u001b[0m \u001b[0menv\u001b[0m\u001b[0;34m.\u001b[0m\u001b[0mprocess\u001b[0m\u001b[0;34m(\u001b[0m\u001b[0msetup2\u001b[0m\u001b[0;34m(\u001b[0m\u001b[0menv\u001b[0m\u001b[0;34m,\u001b[0m \u001b[0;36m1\u001b[0m\u001b[0;34m,\u001b[0m \u001b[0mqueueTime\u001b[0m\u001b[0;34m)\u001b[0m\u001b[0;34m)\u001b[0m\u001b[0;34m\u001b[0m\u001b[0;34m\u001b[0m\u001b[0m\n\u001b[1;32m      3\u001b[0m \u001b[0;34m\u001b[0m\u001b[0m\n\u001b[0;32m----> 4\u001b[0;31m \u001b[0menv\u001b[0m\u001b[0;34m.\u001b[0m\u001b[0mrun\u001b[0m\u001b[0;34m(\u001b[0m\u001b[0muntil\u001b[0m\u001b[0;34m=\u001b[0m\u001b[0;36m100\u001b[0m\u001b[0;34m)\u001b[0m\u001b[0;34m\u001b[0m\u001b[0;34m\u001b[0m\u001b[0m\n\u001b[0m",
      "\u001b[0;32m~/anaconda3/lib/python3.7/site-packages/simpy/core.py\u001b[0m in \u001b[0;36mrun\u001b[0;34m(self, until)\u001b[0m\n\u001b[1;32m    136\u001b[0m         \u001b[0;32mtry\u001b[0m\u001b[0;34m:\u001b[0m\u001b[0;34m\u001b[0m\u001b[0;34m\u001b[0m\u001b[0m\n\u001b[1;32m    137\u001b[0m             \u001b[0;32mwhile\u001b[0m \u001b[0;32mTrue\u001b[0m\u001b[0;34m:\u001b[0m\u001b[0;34m\u001b[0m\u001b[0;34m\u001b[0m\u001b[0m\n\u001b[0;32m--> 138\u001b[0;31m                 \u001b[0mself\u001b[0m\u001b[0;34m.\u001b[0m\u001b[0mstep\u001b[0m\u001b[0;34m(\u001b[0m\u001b[0;34m)\u001b[0m\u001b[0;34m\u001b[0m\u001b[0;34m\u001b[0m\u001b[0m\n\u001b[0m\u001b[1;32m    139\u001b[0m         \u001b[0;32mexcept\u001b[0m \u001b[0mStopSimulation\u001b[0m \u001b[0;32mas\u001b[0m \u001b[0mexc\u001b[0m\u001b[0;34m:\u001b[0m\u001b[0;34m\u001b[0m\u001b[0;34m\u001b[0m\u001b[0m\n\u001b[1;32m    140\u001b[0m             \u001b[0;32mreturn\u001b[0m \u001b[0mexc\u001b[0m\u001b[0;34m.\u001b[0m\u001b[0margs\u001b[0m\u001b[0;34m[\u001b[0m\u001b[0;36m0\u001b[0m\u001b[0;34m]\u001b[0m  \u001b[0;31m# == until.value\u001b[0m\u001b[0;34m\u001b[0m\u001b[0;34m\u001b[0m\u001b[0m\n",
      "\u001b[0;32m~/anaconda3/lib/python3.7/site-packages/simpy/core.py\u001b[0m in \u001b[0;36mstep\u001b[0;34m(self)\u001b[0m\n\u001b[1;32m    228\u001b[0m             \u001b[0mexc\u001b[0m \u001b[0;34m=\u001b[0m \u001b[0mtype\u001b[0m\u001b[0;34m(\u001b[0m\u001b[0mevent\u001b[0m\u001b[0;34m.\u001b[0m\u001b[0m_value\u001b[0m\u001b[0;34m)\u001b[0m\u001b[0;34m(\u001b[0m\u001b[0;34m*\u001b[0m\u001b[0mevent\u001b[0m\u001b[0;34m.\u001b[0m\u001b[0m_value\u001b[0m\u001b[0;34m.\u001b[0m\u001b[0margs\u001b[0m\u001b[0;34m)\u001b[0m\u001b[0;34m\u001b[0m\u001b[0;34m\u001b[0m\u001b[0m\n\u001b[1;32m    229\u001b[0m             \u001b[0mexc\u001b[0m\u001b[0;34m.\u001b[0m\u001b[0m__cause__\u001b[0m \u001b[0;34m=\u001b[0m \u001b[0mevent\u001b[0m\u001b[0;34m.\u001b[0m\u001b[0m_value\u001b[0m\u001b[0;34m\u001b[0m\u001b[0;34m\u001b[0m\u001b[0m\n\u001b[0;32m--> 230\u001b[0;31m             \u001b[0;32mraise\u001b[0m \u001b[0mexc\u001b[0m\u001b[0;34m\u001b[0m\u001b[0;34m\u001b[0m\u001b[0m\n\u001b[0m",
      "\u001b[0;31mTypeError\u001b[0m: 'Resource' object is not callable"
     ]
    }
   ],
   "source": [
    "env = simpy.Environment()\n",
    "env.process(setup2(env, 1, queueTime))\n",
    "\n",
    "env.run(until=100)"
   ]
  },
  {
   "cell_type": "code",
   "execution_count": null,
   "metadata": {},
   "outputs": [],
   "source": []
  }
 ],
 "metadata": {
  "kernelspec": {
   "display_name": "Python 3",
   "language": "python",
   "name": "python3"
  },
  "language_info": {
   "codemirror_mode": {
    "name": "ipython",
    "version": 3
   },
   "file_extension": ".py",
   "mimetype": "text/x-python",
   "name": "python",
   "nbconvert_exporter": "python",
   "pygments_lexer": "ipython3",
   "version": "3.7.1"
  }
 },
 "nbformat": 4,
 "nbformat_minor": 2
}
